{
  "cells": [
    {
      "cell_type": "raw",
      "id": "6ac6d593",
      "metadata": {},
      "source": [
        "---\n",
        "title: \"Client Report - Baseball Relationships\"\n",
        "subtitle: \"Course DS 250\"\n",
        "author: \"Alex Nielsen\"\n",
        "format:\n",
        "  html:\n",
        "    self-contained: true\n",
        "    page-layout: full\n",
        "    title-block-banner: true\n",
        "    toc: true\n",
        "    toc-depth: 3\n",
        "    toc-location: body\n",
        "    number-sections: false\n",
        "    html-math-method: katex\n",
        "    code-fold: true\n",
        "    code-summary: \"Show the code\"\n",
        "    code-overflow: wrap\n",
        "    code-copy: hover\n",
        "    code-tools:\n",
        "        source: false\n",
        "        toggle: true\n",
        "        caption: See code\n",
        "execute: \n",
        "  warning: false\n",
        "    \n",
        "---"
      ]
    },
    {
      "cell_type": "code",
      "execution_count": 1,
      "id": "libraries",
      "metadata": {},
      "outputs": [],
      "source": [
        "#| label: libraries\n",
        "#| include: false\n",
        "import pandas as pd \n",
        "import numpy as np\n",
        "import plotly.express as px\n",
        "import sqlite3 as sql"
      ]
    },
    {
      "cell_type": "markdown",
      "id": "84225024",
      "metadata": {},
      "source": [
        "## Elevator pitch\n",
        "\n",
        "__In the following data analysis I explore the statistics behind Baseball. Baseball is a numbers game, so data exploration like the one below provides numerous insights into the performance of players and teams over time, and why. I was able to discover changes in salary overtime, explore the batting average statistic, and compared the historical skill of two famous MLB teams.__\n"
      ]
    },
    {
      "cell_type": "code",
      "execution_count": 2,
      "id": "project-data",
      "metadata": {},
      "outputs": [
        {
          "data": {
            "text/html": [
              "<div>\n",
              "<style scoped>\n",
              "    .dataframe tbody tr th:only-of-type {\n",
              "        vertical-align: middle;\n",
              "    }\n",
              "\n",
              "    .dataframe tbody tr th {\n",
              "        vertical-align: top;\n",
              "    }\n",
              "\n",
              "    .dataframe thead th {\n",
              "        text-align: right;\n",
              "    }\n",
              "</style>\n",
              "<table border=\"1\" class=\"dataframe\">\n",
              "  <thead>\n",
              "    <tr style=\"text-align: right;\">\n",
              "      <th></th>\n",
              "      <th>name</th>\n",
              "    </tr>\n",
              "  </thead>\n",
              "  <tbody>\n",
              "    <tr>\n",
              "      <th>0</th>\n",
              "      <td>allstarfull</td>\n",
              "    </tr>\n",
              "    <tr>\n",
              "      <th>1</th>\n",
              "      <td>appearances</td>\n",
              "    </tr>\n",
              "    <tr>\n",
              "      <th>2</th>\n",
              "      <td>awardsmanagers</td>\n",
              "    </tr>\n",
              "    <tr>\n",
              "      <th>3</th>\n",
              "      <td>awardsplayers</td>\n",
              "    </tr>\n",
              "    <tr>\n",
              "      <th>4</th>\n",
              "      <td>awardssharemanagers</td>\n",
              "    </tr>\n",
              "    <tr>\n",
              "      <th>5</th>\n",
              "      <td>awardsshareplayers</td>\n",
              "    </tr>\n",
              "    <tr>\n",
              "      <th>6</th>\n",
              "      <td>batting</td>\n",
              "    </tr>\n",
              "    <tr>\n",
              "      <th>7</th>\n",
              "      <td>battingpost</td>\n",
              "    </tr>\n",
              "    <tr>\n",
              "      <th>8</th>\n",
              "      <td>collegeplaying</td>\n",
              "    </tr>\n",
              "    <tr>\n",
              "      <th>9</th>\n",
              "      <td>divisions</td>\n",
              "    </tr>\n",
              "    <tr>\n",
              "      <th>10</th>\n",
              "      <td>fielding</td>\n",
              "    </tr>\n",
              "    <tr>\n",
              "      <th>11</th>\n",
              "      <td>fieldingof</td>\n",
              "    </tr>\n",
              "    <tr>\n",
              "      <th>12</th>\n",
              "      <td>fieldingofsplit</td>\n",
              "    </tr>\n",
              "    <tr>\n",
              "      <th>13</th>\n",
              "      <td>fieldingpost</td>\n",
              "    </tr>\n",
              "    <tr>\n",
              "      <th>14</th>\n",
              "      <td>halloffame</td>\n",
              "    </tr>\n",
              "    <tr>\n",
              "      <th>15</th>\n",
              "      <td>homegames</td>\n",
              "    </tr>\n",
              "    <tr>\n",
              "      <th>16</th>\n",
              "      <td>leagues</td>\n",
              "    </tr>\n",
              "    <tr>\n",
              "      <th>17</th>\n",
              "      <td>managers</td>\n",
              "    </tr>\n",
              "    <tr>\n",
              "      <th>18</th>\n",
              "      <td>managershalf</td>\n",
              "    </tr>\n",
              "    <tr>\n",
              "      <th>19</th>\n",
              "      <td>parks</td>\n",
              "    </tr>\n",
              "    <tr>\n",
              "      <th>20</th>\n",
              "      <td>people</td>\n",
              "    </tr>\n",
              "    <tr>\n",
              "      <th>21</th>\n",
              "      <td>pitching</td>\n",
              "    </tr>\n",
              "    <tr>\n",
              "      <th>22</th>\n",
              "      <td>pitchingpost</td>\n",
              "    </tr>\n",
              "    <tr>\n",
              "      <th>23</th>\n",
              "      <td>salaries</td>\n",
              "    </tr>\n",
              "    <tr>\n",
              "      <th>24</th>\n",
              "      <td>schools</td>\n",
              "    </tr>\n",
              "    <tr>\n",
              "      <th>25</th>\n",
              "      <td>seriespost</td>\n",
              "    </tr>\n",
              "    <tr>\n",
              "      <th>26</th>\n",
              "      <td>teams</td>\n",
              "    </tr>\n",
              "    <tr>\n",
              "      <th>27</th>\n",
              "      <td>teamsfranchises</td>\n",
              "    </tr>\n",
              "    <tr>\n",
              "      <th>28</th>\n",
              "      <td>teamshalf</td>\n",
              "    </tr>\n",
              "  </tbody>\n",
              "</table>\n",
              "</div>"
            ],
            "text/plain": [
              "                   name\n",
              "0           allstarfull\n",
              "1           appearances\n",
              "2        awardsmanagers\n",
              "3         awardsplayers\n",
              "4   awardssharemanagers\n",
              "5    awardsshareplayers\n",
              "6               batting\n",
              "7           battingpost\n",
              "8        collegeplaying\n",
              "9             divisions\n",
              "10             fielding\n",
              "11           fieldingof\n",
              "12      fieldingofsplit\n",
              "13         fieldingpost\n",
              "14           halloffame\n",
              "15            homegames\n",
              "16              leagues\n",
              "17             managers\n",
              "18         managershalf\n",
              "19                parks\n",
              "20               people\n",
              "21             pitching\n",
              "22         pitchingpost\n",
              "23             salaries\n",
              "24              schools\n",
              "25           seriespost\n",
              "26                teams\n",
              "27      teamsfranchises\n",
              "28            teamshalf"
            ]
          },
          "execution_count": 2,
          "metadata": {},
          "output_type": "execute_result"
        }
      ],
      "source": [
        "#| label: project-data\n",
        "#| code-summary: Read and format project data\n",
        "\n",
        "# Data connection\n",
        "sqlite_file = 'lahmansbaseballdb.sqlite'\n",
        "con = sql.connect(sqlite_file)\n",
        "\n",
        "q = '''\n",
        "    SELECT * \n",
        "    FROM sqlite_master \n",
        "    WHERE type='table'\n",
        "    '''\n",
        "table = pd.read_sql_query(q,con)\n",
        "table.filter(['name'])"
      ]
    },
    {
      "cell_type": "markdown",
      "id": "8fa23c5b",
      "metadata": {},
      "source": [
        "## Write an SQL query to create a new dataframe about baseball players who attended BYU-Idaho\n",
        "\n",
        "__The new table should contain five columns: playerID, schoolID, salary, and the yearID/teamID associated with each salary. Order the table by salary (highest to lowest) and print out the table in your report.__\n",
        "\n",
        "The formatted table below shows the 2 professional players fround from BYUI. The statistics display the years they played, for which team, and their salary for the given year, in descending order by salary. This gives us insights on the annual salary made by the students over the years. Naturally, the longer a student plays the more they seem to make. We also notice that the player with id 'lindsma01' generally made more than 'stephga01'. This is likely due to the fact that he played about 10 years later, thus inflation and general industry/team growth would have increased this amount naturally. \n"
      ]
    },
    {
      "cell_type": "code",
      "execution_count": 3,
      "id": "Q1",
      "metadata": {},
      "outputs": [],
      "source": [
        "#| label: Q1\n",
        "#| code-summary: Format data\n",
        "# Creating table\n",
        "player_q = '''\n",
        "    SELECT *\n",
        "    FROM collegeplaying\n",
        "    WHERE schoolID == \"idbyuid\"\n",
        "    '''\n",
        "\n",
        "results = pd.read_sql_query(player_q, con)\n",
        "byuiPlayers = results['playerID']\n",
        "\n",
        "salary_q = '''\n",
        "  SELECT *\n",
        "  FROM salaries\n",
        "  WHERE playerID == \"stephga01\" or playerID == \"lindsma01\"\n",
        "  ORDER BY salary DESC\n",
        "  '''\n",
        "salaries = pd.read_sql_query(salary_q, con)\n",
        "salaries['schoolID'] = \"idbyuid\"\n",
        "salary_df = salaries.drop(['lgID', 'ID', 'team_ID'], axis=1)"
      ]
    },
    {
      "cell_type": "code",
      "execution_count": 4,
      "id": "Q1-table",
      "metadata": {},
      "outputs": [
        {
          "data": {
            "text/html": [
              "<div>\n",
              "<style scoped>\n",
              "    .dataframe tbody tr th:only-of-type {\n",
              "        vertical-align: middle;\n",
              "    }\n",
              "\n",
              "    .dataframe tbody tr th {\n",
              "        vertical-align: top;\n",
              "    }\n",
              "\n",
              "    .dataframe thead th {\n",
              "        text-align: right;\n",
              "    }\n",
              "</style>\n",
              "<table border=\"1\" class=\"dataframe\">\n",
              "  <thead>\n",
              "    <tr style=\"text-align: right;\">\n",
              "      <th></th>\n",
              "      <th>yearID</th>\n",
              "      <th>teamID</th>\n",
              "      <th>playerID</th>\n",
              "      <th>salary</th>\n",
              "      <th>schoolID</th>\n",
              "    </tr>\n",
              "  </thead>\n",
              "  <tbody>\n",
              "    <tr>\n",
              "      <th>0</th>\n",
              "      <td>2014</td>\n",
              "      <td>CHA</td>\n",
              "      <td>lindsma01</td>\n",
              "      <td>4000000.0</td>\n",
              "      <td>idbyuid</td>\n",
              "    </tr>\n",
              "    <tr>\n",
              "      <th>1</th>\n",
              "      <td>2012</td>\n",
              "      <td>BAL</td>\n",
              "      <td>lindsma01</td>\n",
              "      <td>3600000.0</td>\n",
              "      <td>idbyuid</td>\n",
              "    </tr>\n",
              "    <tr>\n",
              "      <th>2</th>\n",
              "      <td>2011</td>\n",
              "      <td>COL</td>\n",
              "      <td>lindsma01</td>\n",
              "      <td>2800000.0</td>\n",
              "      <td>idbyuid</td>\n",
              "    </tr>\n",
              "    <tr>\n",
              "      <th>3</th>\n",
              "      <td>2013</td>\n",
              "      <td>CHA</td>\n",
              "      <td>lindsma01</td>\n",
              "      <td>2300000.0</td>\n",
              "      <td>idbyuid</td>\n",
              "    </tr>\n",
              "    <tr>\n",
              "      <th>4</th>\n",
              "      <td>2010</td>\n",
              "      <td>HOU</td>\n",
              "      <td>lindsma01</td>\n",
              "      <td>1625000.0</td>\n",
              "      <td>idbyuid</td>\n",
              "    </tr>\n",
              "    <tr>\n",
              "      <th>5</th>\n",
              "      <td>2001</td>\n",
              "      <td>SLN</td>\n",
              "      <td>stephga01</td>\n",
              "      <td>1025000.0</td>\n",
              "      <td>idbyuid</td>\n",
              "    </tr>\n",
              "    <tr>\n",
              "      <th>6</th>\n",
              "      <td>2002</td>\n",
              "      <td>SLN</td>\n",
              "      <td>stephga01</td>\n",
              "      <td>900000.0</td>\n",
              "      <td>idbyuid</td>\n",
              "    </tr>\n",
              "    <tr>\n",
              "      <th>7</th>\n",
              "      <td>2003</td>\n",
              "      <td>SLN</td>\n",
              "      <td>stephga01</td>\n",
              "      <td>800000.0</td>\n",
              "      <td>idbyuid</td>\n",
              "    </tr>\n",
              "    <tr>\n",
              "      <th>8</th>\n",
              "      <td>2000</td>\n",
              "      <td>SLN</td>\n",
              "      <td>stephga01</td>\n",
              "      <td>550000.0</td>\n",
              "      <td>idbyuid</td>\n",
              "    </tr>\n",
              "    <tr>\n",
              "      <th>9</th>\n",
              "      <td>2009</td>\n",
              "      <td>FLO</td>\n",
              "      <td>lindsma01</td>\n",
              "      <td>410000.0</td>\n",
              "      <td>idbyuid</td>\n",
              "    </tr>\n",
              "    <tr>\n",
              "      <th>10</th>\n",
              "      <td>2008</td>\n",
              "      <td>FLO</td>\n",
              "      <td>lindsma01</td>\n",
              "      <td>395000.0</td>\n",
              "      <td>idbyuid</td>\n",
              "    </tr>\n",
              "    <tr>\n",
              "      <th>11</th>\n",
              "      <td>2007</td>\n",
              "      <td>FLO</td>\n",
              "      <td>lindsma01</td>\n",
              "      <td>380000.0</td>\n",
              "      <td>idbyuid</td>\n",
              "    </tr>\n",
              "    <tr>\n",
              "      <th>12</th>\n",
              "      <td>1999</td>\n",
              "      <td>SLN</td>\n",
              "      <td>stephga01</td>\n",
              "      <td>215000.0</td>\n",
              "      <td>idbyuid</td>\n",
              "    </tr>\n",
              "    <tr>\n",
              "      <th>13</th>\n",
              "      <td>1998</td>\n",
              "      <td>PHI</td>\n",
              "      <td>stephga01</td>\n",
              "      <td>185000.0</td>\n",
              "      <td>idbyuid</td>\n",
              "    </tr>\n",
              "    <tr>\n",
              "      <th>14</th>\n",
              "      <td>1997</td>\n",
              "      <td>PHI</td>\n",
              "      <td>stephga01</td>\n",
              "      <td>150000.0</td>\n",
              "      <td>idbyuid</td>\n",
              "    </tr>\n",
              "  </tbody>\n",
              "</table>\n",
              "</div>"
            ],
            "text/plain": [
              "    yearID teamID   playerID     salary schoolID\n",
              "0     2014    CHA  lindsma01  4000000.0  idbyuid\n",
              "1     2012    BAL  lindsma01  3600000.0  idbyuid\n",
              "2     2011    COL  lindsma01  2800000.0  idbyuid\n",
              "3     2013    CHA  lindsma01  2300000.0  idbyuid\n",
              "4     2010    HOU  lindsma01  1625000.0  idbyuid\n",
              "5     2001    SLN  stephga01  1025000.0  idbyuid\n",
              "6     2002    SLN  stephga01   900000.0  idbyuid\n",
              "7     2003    SLN  stephga01   800000.0  idbyuid\n",
              "8     2000    SLN  stephga01   550000.0  idbyuid\n",
              "9     2009    FLO  lindsma01   410000.0  idbyuid\n",
              "10    2008    FLO  lindsma01   395000.0  idbyuid\n",
              "11    2007    FLO  lindsma01   380000.0  idbyuid\n",
              "12    1999    SLN  stephga01   215000.0  idbyuid\n",
              "13    1998    PHI  stephga01   185000.0  idbyuid\n",
              "14    1997    PHI  stephga01   150000.0  idbyuid"
            ]
          },
          "execution_count": 4,
          "metadata": {},
          "output_type": "execute_result"
        }
      ],
      "source": [
        "#| label: Q1-table\n",
        "#| code-summary: Table to show BYUI players\n",
        "#| tbl-cap: BYUI Players Table\n",
        "#| tbl-cap-location: top\n",
        "# table\n",
        "salary_df"
      ]
    },
    {
      "cell_type": "markdown",
      "id": "16c87cc0",
      "metadata": {},
      "source": [
        "## Calculate Batting Average\n",
        "\n",
        "The following three tables show batting percentage statistics in different forms and gives us insights into historical batting accuracy. In order to create these tables I needed to group the stats by playerID and create a batting percentage column from the 'at bats' and 'hits' columns.\n"
      ]
    },
    {
      "cell_type": "code",
      "execution_count": 5,
      "id": "Q2",
      "metadata": {},
      "outputs": [
        {
          "name": "stderr",
          "output_type": "stream",
          "text": [
            "C:\\Users\\alext\\AppData\\Local\\Temp\\ipykernel_4868\\2409195162.py:11: SettingWithCopyWarning: \n",
            "A value is trying to be set on a copy of a slice from a DataFrame.\n",
            "Try using .loc[row_indexer,col_indexer] = value instead\n",
            "\n",
            "See the caveats in the documentation: https://pandas.pydata.org/pandas-docs/stable/user_guide/indexing.html#returning-a-view-versus-a-copy\n",
            "  batting['bat%'] = 100*round(batting['H']/batting['AB'], 4)\n"
          ]
        }
      ],
      "source": [
        "#| label: Q2\n",
        "#| code-summary: Format data\n",
        "# Table creation\n",
        "batting_q = '''\n",
        "  SELECT * \n",
        "  FROM batting\n",
        "  WHERE ab >= 1\n",
        "  '''\n",
        "batting_df = pd.read_sql_query(batting_q, con)\n",
        "batting = batting_df[['playerID', 'yearID', 'AB', 'H']]\n",
        "batting['bat%'] = 100*round(batting['H']/batting['AB'], 4)\n",
        "batting = batting.sort_values('bat%', ascending=False)"
      ]
    },
    {
      "cell_type": "markdown",
      "id": "1d381b5c",
      "metadata": {},
      "source": [
        "This first table simply shows the top 5 batting percentages ever recorded. It makes sense to see that all 5 are people who only had 1 or 2 at bats, and thus easily managed a 100% batting percentage. \n"
      ]
    },
    {
      "cell_type": "code",
      "execution_count": 6,
      "id": "Q2-table-A",
      "metadata": {},
      "outputs": [
        {
          "data": {
            "text/html": [
              "<div>\n",
              "<style scoped>\n",
              "    .dataframe tbody tr th:only-of-type {\n",
              "        vertical-align: middle;\n",
              "    }\n",
              "\n",
              "    .dataframe tbody tr th {\n",
              "        vertical-align: top;\n",
              "    }\n",
              "\n",
              "    .dataframe thead th {\n",
              "        text-align: right;\n",
              "    }\n",
              "</style>\n",
              "<table border=\"1\" class=\"dataframe\">\n",
              "  <thead>\n",
              "    <tr style=\"text-align: right;\">\n",
              "      <th></th>\n",
              "      <th>playerID</th>\n",
              "      <th>yearID</th>\n",
              "      <th>AB</th>\n",
              "      <th>H</th>\n",
              "      <th>bat%</th>\n",
              "    </tr>\n",
              "  </thead>\n",
              "  <tbody>\n",
              "    <tr>\n",
              "      <th>41947</th>\n",
              "      <td>acklefr01</td>\n",
              "      <td>1964</td>\n",
              "      <td>1</td>\n",
              "      <td>1</td>\n",
              "      <td>100.0</td>\n",
              "    </tr>\n",
              "    <tr>\n",
              "      <th>87881</th>\n",
              "      <td>hollade01</td>\n",
              "      <td>2017</td>\n",
              "      <td>1</td>\n",
              "      <td>1</td>\n",
              "      <td>100.0</td>\n",
              "    </tr>\n",
              "    <tr>\n",
              "      <th>68685</th>\n",
              "      <td>magnami01</td>\n",
              "      <td>1998</td>\n",
              "      <td>2</td>\n",
              "      <td>2</td>\n",
              "      <td>100.0</td>\n",
              "    </tr>\n",
              "    <tr>\n",
              "      <th>39731</th>\n",
              "      <td>rushbo01</td>\n",
              "      <td>1960</td>\n",
              "      <td>1</td>\n",
              "      <td>1</td>\n",
              "      <td>100.0</td>\n",
              "    </tr>\n",
              "    <tr>\n",
              "      <th>74203</th>\n",
              "      <td>valvejo01</td>\n",
              "      <td>2003</td>\n",
              "      <td>1</td>\n",
              "      <td>1</td>\n",
              "      <td>100.0</td>\n",
              "    </tr>\n",
              "  </tbody>\n",
              "</table>\n",
              "</div>"
            ],
            "text/plain": [
              "        playerID  yearID  AB  H   bat%\n",
              "41947  acklefr01    1964   1  1  100.0\n",
              "87881  hollade01    2017   1  1  100.0\n",
              "68685  magnami01    1998   2  2  100.0\n",
              "39731   rushbo01    1960   1  1  100.0\n",
              "74203  valvejo01    2003   1  1  100.0"
            ]
          },
          "metadata": {},
          "output_type": "display_data"
        }
      ],
      "source": [
        "#| label: Q2-table A\n",
        "#| code-summary: Highest bat% table\n",
        "#| tbl-cap: Highest bat% table\n",
        "#| tbl-cap-location: top\n",
        "# Batting % Table\n",
        "display(batting.head(5).sort_values('playerID'))"
      ]
    },
    {
      "cell_type": "markdown",
      "id": "2a19d776",
      "metadata": {},
      "source": [
        "The next table becomes somewhat more realistic, as it filters any player who had less than 10 at bats for the given year. Still, these players only had a handful of at bats, and thus easily achieved a very high hitting percentage.\n"
      ]
    },
    {
      "cell_type": "code",
      "execution_count": 7,
      "id": "Q2-table-B",
      "metadata": {},
      "outputs": [
        {
          "data": {
            "text/html": [
              "<div>\n",
              "<style scoped>\n",
              "    .dataframe tbody tr th:only-of-type {\n",
              "        vertical-align: middle;\n",
              "    }\n",
              "\n",
              "    .dataframe tbody tr th {\n",
              "        vertical-align: top;\n",
              "    }\n",
              "\n",
              "    .dataframe thead th {\n",
              "        text-align: right;\n",
              "    }\n",
              "</style>\n",
              "<table border=\"1\" class=\"dataframe\">\n",
              "  <thead>\n",
              "    <tr style=\"text-align: right;\">\n",
              "      <th></th>\n",
              "      <th>playerID</th>\n",
              "      <th>yearID</th>\n",
              "      <th>AB</th>\n",
              "      <th>H</th>\n",
              "      <th>bat%</th>\n",
              "    </tr>\n",
              "  </thead>\n",
              "  <tbody>\n",
              "    <tr>\n",
              "      <th>50119</th>\n",
              "      <td>nymanny01</td>\n",
              "      <td>1974</td>\n",
              "      <td>14</td>\n",
              "      <td>9</td>\n",
              "      <td>64.29</td>\n",
              "    </tr>\n",
              "    <tr>\n",
              "      <th>83515</th>\n",
              "      <td>carsoma01</td>\n",
              "      <td>2013</td>\n",
              "      <td>11</td>\n",
              "      <td>7</td>\n",
              "      <td>63.64</td>\n",
              "    </tr>\n",
              "    <tr>\n",
              "      <th>12012</th>\n",
              "      <td>altizda01</td>\n",
              "      <td>1910</td>\n",
              "      <td>10</td>\n",
              "      <td>6</td>\n",
              "      <td>60.00</td>\n",
              "    </tr>\n",
              "    <tr>\n",
              "      <th>50649</th>\n",
              "      <td>johnsde01</td>\n",
              "      <td>1975</td>\n",
              "      <td>10</td>\n",
              "      <td>6</td>\n",
              "      <td>60.00</td>\n",
              "    </tr>\n",
              "    <tr>\n",
              "      <th>32819</th>\n",
              "      <td>silvech01</td>\n",
              "      <td>1948</td>\n",
              "      <td>14</td>\n",
              "      <td>8</td>\n",
              "      <td>57.14</td>\n",
              "    </tr>\n",
              "  </tbody>\n",
              "</table>\n",
              "</div>"
            ],
            "text/plain": [
              "        playerID  yearID  AB  H   bat%\n",
              "50119  nymanny01    1974  14  9  64.29\n",
              "83515  carsoma01    2013  11  7  63.64\n",
              "12012  altizda01    1910  10  6  60.00\n",
              "50649  johnsde01    1975  10  6  60.00\n",
              "32819  silvech01    1948  14  8  57.14"
            ]
          },
          "metadata": {},
          "output_type": "display_data"
        }
      ],
      "source": [
        "#| label: Q2-table B\n",
        "#| code-summary: Best batters  after 10\n",
        "#| tbl-cap: Best batter with 10+ AB\n",
        "#| tbl-cap-location: top\n",
        "# Batting % after 10 Table\n",
        "batting_10 = batting.drop(batting[batting['AB']<10].index)\n",
        "display(batting_10.head(5))"
      ]
    },
    {
      "cell_type": "markdown",
      "id": "64eb841c",
      "metadata": {},
      "source": [
        "The final table shown is by far the most fascinating. This summed every player's at bats in order to find the highest career batting percentage in the MLB. It only checks players with at least 100 career at bats, and results in Ty Cobb having the highest all time batting average at 36.6%.\n"
      ]
    },
    {
      "cell_type": "code",
      "execution_count": 8,
      "id": "Q2-table-C",
      "metadata": {},
      "outputs": [
        {
          "data": {
            "text/html": [
              "<div>\n",
              "<style scoped>\n",
              "    .dataframe tbody tr th:only-of-type {\n",
              "        vertical-align: middle;\n",
              "    }\n",
              "\n",
              "    .dataframe tbody tr th {\n",
              "        vertical-align: top;\n",
              "    }\n",
              "\n",
              "    .dataframe thead th {\n",
              "        text-align: right;\n",
              "    }\n",
              "</style>\n",
              "<table border=\"1\" class=\"dataframe\">\n",
              "  <thead>\n",
              "    <tr style=\"text-align: right;\">\n",
              "      <th></th>\n",
              "      <th>playerID</th>\n",
              "      <th>AB</th>\n",
              "      <th>H</th>\n",
              "      <th>bat%</th>\n",
              "    </tr>\n",
              "  </thead>\n",
              "  <tbody>\n",
              "    <tr>\n",
              "      <th>2918</th>\n",
              "      <td>cobbty01</td>\n",
              "      <td>11436</td>\n",
              "      <td>4189</td>\n",
              "      <td>36.63</td>\n",
              "    </tr>\n",
              "    <tr>\n",
              "      <th>754</th>\n",
              "      <td>barnero01</td>\n",
              "      <td>2391</td>\n",
              "      <td>860</td>\n",
              "      <td>35.97</td>\n",
              "    </tr>\n",
              "    <tr>\n",
              "      <th>7292</th>\n",
              "      <td>hornsro01</td>\n",
              "      <td>8173</td>\n",
              "      <td>2930</td>\n",
              "      <td>35.85</td>\n",
              "    </tr>\n",
              "    <tr>\n",
              "      <th>7609</th>\n",
              "      <td>jacksjo01</td>\n",
              "      <td>4981</td>\n",
              "      <td>1772</td>\n",
              "      <td>35.58</td>\n",
              "    </tr>\n",
              "    <tr>\n",
              "      <th>10616</th>\n",
              "      <td>meyerle01</td>\n",
              "      <td>1443</td>\n",
              "      <td>513</td>\n",
              "      <td>35.55</td>\n",
              "    </tr>\n",
              "  </tbody>\n",
              "</table>\n",
              "</div>"
            ],
            "text/plain": [
              "        playerID     AB     H   bat%\n",
              "2918    cobbty01  11436  4189  36.63\n",
              "754    barnero01   2391   860  35.97\n",
              "7292   hornsro01   8173  2930  35.85\n",
              "7609   jacksjo01   4981  1772  35.58\n",
              "10616  meyerle01   1443   513  35.55"
            ]
          },
          "metadata": {},
          "output_type": "display_data"
        }
      ],
      "source": [
        "#| label: Q2-table C\n",
        "#| code-summary: Best career batters\n",
        "#| tbl-cap: Best batter career\n",
        "#| tbl-cap-location: top\n",
        "# Batting % after career Table\n",
        "batting_career = batting.groupby(['playerID'])[['AB', 'H']].sum().reset_index()\n",
        "batting_career['bat%'] = 100*round(batting_career['H']/batting_career['AB'], 4)\n",
        "batting_career = batting_career.drop(batting_career[batting_career['AB']<100].index).sort_values('bat%', ascending=False)\n",
        "display(batting_career.head(5))"
      ]
    },
    {
      "cell_type": "markdown",
      "id": "6451ed85",
      "metadata": {},
      "source": [
        "## Pick any two baseball teams and compare them using a metric of your choice\n",
        "\n",
        "__Write an SQL query to get the data you need, then make a graph using Plotly Express to visualize the comparison. What do you learn?__\n",
        "\n",
        "The following line chart compares the number of home runs achieved each year by the Boston Red Sox and New York Yankees. There are several fascinating insights to be found here, firstly I noticed that there is a positive trendline for both teams. This indicates that as the sport has matured, and players' skill increased overtime, it seems more and more home runs have been occuring over the last century. In terms of actual team comparison, both are relatively even, but New York seems to generally have the upper hand in home runs. What I find most interesting, is the very large gap in the 20s and 30s. Note taht the year of this large spike (1920), happens to be the year that the famous 'Babe Ruth' signed with the New York Yankees. Furthermore, we see the number of home runs drastically drop closer to the level of Boston in 1935. Babe Ruth left the Yankees in 1934. It is incredible to see one man seemingly make such a large impact on the performance of a team. \n"
      ]
    },
    {
      "cell_type": "code",
      "execution_count": 9,
      "id": "Q3",
      "metadata": {},
      "outputs": [],
      "source": [
        "#| label: Q3\n",
        "#| code-summary: Format data\n",
        "# Home Run comparison\n",
        "team_q = '''\n",
        "  SELECT *\n",
        "  FROM teams\n",
        "  WHERE teamID == \"NYA\" or teamID == \"BOS\"\n",
        "  '''\n",
        "team_df = pd.read_sql_query(team_q, con)[['teamID', 'HR', 'yearID']]"
      ]
    },
    {
      "cell_type": "code",
      "execution_count": 10,
      "id": "Q3-chart",
      "metadata": {},
      "outputs": [
        {
          "data": {
            "application/vnd.plotly.v1+json": {
              "config": {
                "plotlyServerURL": "https://plot.ly"
              },
              "data": [
                {
                  "hovertemplate": "teamID=BOS<br>yearID=%{x}<br>HR=%{y}<extra></extra>",
                  "legendgroup": "BOS",
                  "line": {
                    "color": "#636efa",
                    "dash": "solid"
                  },
                  "marker": {
                    "symbol": "circle"
                  },
                  "mode": "lines",
                  "name": "BOS",
                  "orientation": "v",
                  "showlegend": true,
                  "type": "scatter",
                  "x": [
                    1901,
                    1902,
                    1903,
                    1904,
                    1905,
                    1906,
                    1907,
                    1908,
                    1909,
                    1910,
                    1911,
                    1912,
                    1913,
                    1914,
                    1915,
                    1916,
                    1917,
                    1918,
                    1919,
                    1920,
                    1921,
                    1922,
                    1923,
                    1924,
                    1925,
                    1926,
                    1927,
                    1928,
                    1929,
                    1930,
                    1931,
                    1932,
                    1933,
                    1934,
                    1935,
                    1936,
                    1937,
                    1938,
                    1939,
                    1940,
                    1941,
                    1942,
                    1943,
                    1944,
                    1945,
                    1946,
                    1947,
                    1948,
                    1949,
                    1950,
                    1951,
                    1952,
                    1953,
                    1954,
                    1955,
                    1956,
                    1957,
                    1958,
                    1959,
                    1960,
                    1961,
                    1962,
                    1963,
                    1964,
                    1965,
                    1966,
                    1967,
                    1968,
                    1969,
                    1970,
                    1971,
                    1972,
                    1973,
                    1974,
                    1975,
                    1976,
                    1977,
                    1978,
                    1979,
                    1980,
                    1981,
                    1982,
                    1983,
                    1984,
                    1985,
                    1986,
                    1987,
                    1988,
                    1989,
                    1990,
                    1991,
                    1992,
                    1993,
                    1994,
                    1995,
                    1996,
                    1997,
                    1998,
                    1999,
                    2000,
                    2001,
                    2002,
                    2003,
                    2004,
                    2005,
                    2006,
                    2007,
                    2008,
                    2009,
                    2010,
                    2011,
                    2012,
                    2013,
                    2014,
                    2015,
                    2016,
                    2017,
                    2018,
                    2019
                  ],
                  "xaxis": "x",
                  "y": [
                    37,
                    42,
                    48,
                    26,
                    29,
                    13,
                    18,
                    14,
                    20,
                    43,
                    35,
                    29,
                    17,
                    18,
                    14,
                    14,
                    14,
                    15,
                    33,
                    22,
                    17,
                    45,
                    34,
                    30,
                    41,
                    32,
                    28,
                    38,
                    28,
                    47,
                    37,
                    53,
                    50,
                    51,
                    69,
                    86,
                    100,
                    98,
                    124,
                    145,
                    124,
                    103,
                    57,
                    69,
                    50,
                    109,
                    103,
                    121,
                    131,
                    161,
                    127,
                    113,
                    101,
                    123,
                    137,
                    139,
                    153,
                    155,
                    125,
                    124,
                    112,
                    146,
                    171,
                    186,
                    165,
                    145,
                    158,
                    125,
                    197,
                    203,
                    161,
                    124,
                    147,
                    109,
                    134,
                    134,
                    213,
                    172,
                    194,
                    162,
                    90,
                    136,
                    142,
                    181,
                    162,
                    144,
                    174,
                    124,
                    108,
                    106,
                    126,
                    84,
                    114,
                    120,
                    175,
                    209,
                    185,
                    205,
                    176,
                    167,
                    198,
                    177,
                    238,
                    222,
                    199,
                    192,
                    166,
                    173,
                    212,
                    211,
                    203,
                    165,
                    178,
                    123,
                    161,
                    208,
                    168,
                    208,
                    245
                  ],
                  "yaxis": "y"
                },
                {
                  "hovertemplate": "teamID=NYA<br>yearID=%{x}<br>HR=%{y}<extra></extra>",
                  "legendgroup": "NYA",
                  "line": {
                    "color": "#EF553B",
                    "dash": "solid"
                  },
                  "marker": {
                    "symbol": "circle"
                  },
                  "mode": "lines",
                  "name": "NYA",
                  "orientation": "v",
                  "showlegend": true,
                  "type": "scatter",
                  "x": [
                    1903,
                    1904,
                    1905,
                    1906,
                    1907,
                    1908,
                    1909,
                    1910,
                    1911,
                    1912,
                    1913,
                    1914,
                    1915,
                    1916,
                    1917,
                    1918,
                    1919,
                    1920,
                    1921,
                    1922,
                    1923,
                    1924,
                    1925,
                    1926,
                    1927,
                    1928,
                    1929,
                    1930,
                    1931,
                    1932,
                    1933,
                    1934,
                    1935,
                    1936,
                    1937,
                    1938,
                    1939,
                    1940,
                    1941,
                    1942,
                    1943,
                    1944,
                    1945,
                    1946,
                    1947,
                    1948,
                    1949,
                    1950,
                    1951,
                    1952,
                    1953,
                    1954,
                    1955,
                    1956,
                    1957,
                    1958,
                    1959,
                    1960,
                    1961,
                    1962,
                    1963,
                    1964,
                    1965,
                    1966,
                    1967,
                    1968,
                    1969,
                    1970,
                    1971,
                    1972,
                    1973,
                    1974,
                    1975,
                    1976,
                    1977,
                    1978,
                    1979,
                    1980,
                    1981,
                    1982,
                    1983,
                    1984,
                    1985,
                    1986,
                    1987,
                    1988,
                    1989,
                    1990,
                    1991,
                    1992,
                    1993,
                    1994,
                    1995,
                    1996,
                    1997,
                    1998,
                    1999,
                    2000,
                    2001,
                    2002,
                    2003,
                    2004,
                    2005,
                    2006,
                    2007,
                    2008,
                    2009,
                    2010,
                    2011,
                    2012,
                    2013,
                    2014,
                    2015,
                    2016,
                    2017,
                    2018,
                    2019
                  ],
                  "xaxis": "x",
                  "y": [
                    18,
                    27,
                    23,
                    17,
                    15,
                    13,
                    16,
                    20,
                    25,
                    18,
                    8,
                    12,
                    31,
                    35,
                    27,
                    20,
                    45,
                    115,
                    134,
                    95,
                    105,
                    98,
                    110,
                    121,
                    158,
                    133,
                    142,
                    152,
                    155,
                    160,
                    144,
                    135,
                    104,
                    182,
                    174,
                    174,
                    166,
                    155,
                    151,
                    108,
                    100,
                    96,
                    93,
                    136,
                    115,
                    139,
                    115,
                    159,
                    140,
                    129,
                    139,
                    133,
                    175,
                    190,
                    145,
                    164,
                    153,
                    193,
                    240,
                    199,
                    188,
                    162,
                    149,
                    162,
                    100,
                    109,
                    94,
                    111,
                    97,
                    103,
                    131,
                    101,
                    110,
                    120,
                    184,
                    125,
                    150,
                    189,
                    100,
                    161,
                    153,
                    130,
                    176,
                    188,
                    196,
                    148,
                    130,
                    147,
                    147,
                    163,
                    178,
                    139,
                    122,
                    162,
                    161,
                    207,
                    193,
                    205,
                    203,
                    223,
                    230,
                    242,
                    229,
                    210,
                    201,
                    180,
                    244,
                    201,
                    222,
                    245,
                    144,
                    147,
                    212,
                    183,
                    241,
                    267,
                    306
                  ],
                  "yaxis": "y"
                }
              ],
              "layout": {
                "legend": {
                  "title": {
                    "text": "teamID"
                  },
                  "tracegroupgap": 0
                },
                "template": {
                  "data": {
                    "bar": [
                      {
                        "error_x": {
                          "color": "#2a3f5f"
                        },
                        "error_y": {
                          "color": "#2a3f5f"
                        },
                        "marker": {
                          "line": {
                            "color": "#E5ECF6",
                            "width": 0.5
                          },
                          "pattern": {
                            "fillmode": "overlay",
                            "size": 10,
                            "solidity": 0.2
                          }
                        },
                        "type": "bar"
                      }
                    ],
                    "barpolar": [
                      {
                        "marker": {
                          "line": {
                            "color": "#E5ECF6",
                            "width": 0.5
                          },
                          "pattern": {
                            "fillmode": "overlay",
                            "size": 10,
                            "solidity": 0.2
                          }
                        },
                        "type": "barpolar"
                      }
                    ],
                    "carpet": [
                      {
                        "aaxis": {
                          "endlinecolor": "#2a3f5f",
                          "gridcolor": "white",
                          "linecolor": "white",
                          "minorgridcolor": "white",
                          "startlinecolor": "#2a3f5f"
                        },
                        "baxis": {
                          "endlinecolor": "#2a3f5f",
                          "gridcolor": "white",
                          "linecolor": "white",
                          "minorgridcolor": "white",
                          "startlinecolor": "#2a3f5f"
                        },
                        "type": "carpet"
                      }
                    ],
                    "choropleth": [
                      {
                        "colorbar": {
                          "outlinewidth": 0,
                          "ticks": ""
                        },
                        "type": "choropleth"
                      }
                    ],
                    "contour": [
                      {
                        "colorbar": {
                          "outlinewidth": 0,
                          "ticks": ""
                        },
                        "colorscale": [
                          [
                            0,
                            "#0d0887"
                          ],
                          [
                            0.1111111111111111,
                            "#46039f"
                          ],
                          [
                            0.2222222222222222,
                            "#7201a8"
                          ],
                          [
                            0.3333333333333333,
                            "#9c179e"
                          ],
                          [
                            0.4444444444444444,
                            "#bd3786"
                          ],
                          [
                            0.5555555555555556,
                            "#d8576b"
                          ],
                          [
                            0.6666666666666666,
                            "#ed7953"
                          ],
                          [
                            0.7777777777777778,
                            "#fb9f3a"
                          ],
                          [
                            0.8888888888888888,
                            "#fdca26"
                          ],
                          [
                            1,
                            "#f0f921"
                          ]
                        ],
                        "type": "contour"
                      }
                    ],
                    "contourcarpet": [
                      {
                        "colorbar": {
                          "outlinewidth": 0,
                          "ticks": ""
                        },
                        "type": "contourcarpet"
                      }
                    ],
                    "heatmap": [
                      {
                        "colorbar": {
                          "outlinewidth": 0,
                          "ticks": ""
                        },
                        "colorscale": [
                          [
                            0,
                            "#0d0887"
                          ],
                          [
                            0.1111111111111111,
                            "#46039f"
                          ],
                          [
                            0.2222222222222222,
                            "#7201a8"
                          ],
                          [
                            0.3333333333333333,
                            "#9c179e"
                          ],
                          [
                            0.4444444444444444,
                            "#bd3786"
                          ],
                          [
                            0.5555555555555556,
                            "#d8576b"
                          ],
                          [
                            0.6666666666666666,
                            "#ed7953"
                          ],
                          [
                            0.7777777777777778,
                            "#fb9f3a"
                          ],
                          [
                            0.8888888888888888,
                            "#fdca26"
                          ],
                          [
                            1,
                            "#f0f921"
                          ]
                        ],
                        "type": "heatmap"
                      }
                    ],
                    "heatmapgl": [
                      {
                        "colorbar": {
                          "outlinewidth": 0,
                          "ticks": ""
                        },
                        "colorscale": [
                          [
                            0,
                            "#0d0887"
                          ],
                          [
                            0.1111111111111111,
                            "#46039f"
                          ],
                          [
                            0.2222222222222222,
                            "#7201a8"
                          ],
                          [
                            0.3333333333333333,
                            "#9c179e"
                          ],
                          [
                            0.4444444444444444,
                            "#bd3786"
                          ],
                          [
                            0.5555555555555556,
                            "#d8576b"
                          ],
                          [
                            0.6666666666666666,
                            "#ed7953"
                          ],
                          [
                            0.7777777777777778,
                            "#fb9f3a"
                          ],
                          [
                            0.8888888888888888,
                            "#fdca26"
                          ],
                          [
                            1,
                            "#f0f921"
                          ]
                        ],
                        "type": "heatmapgl"
                      }
                    ],
                    "histogram": [
                      {
                        "marker": {
                          "pattern": {
                            "fillmode": "overlay",
                            "size": 10,
                            "solidity": 0.2
                          }
                        },
                        "type": "histogram"
                      }
                    ],
                    "histogram2d": [
                      {
                        "colorbar": {
                          "outlinewidth": 0,
                          "ticks": ""
                        },
                        "colorscale": [
                          [
                            0,
                            "#0d0887"
                          ],
                          [
                            0.1111111111111111,
                            "#46039f"
                          ],
                          [
                            0.2222222222222222,
                            "#7201a8"
                          ],
                          [
                            0.3333333333333333,
                            "#9c179e"
                          ],
                          [
                            0.4444444444444444,
                            "#bd3786"
                          ],
                          [
                            0.5555555555555556,
                            "#d8576b"
                          ],
                          [
                            0.6666666666666666,
                            "#ed7953"
                          ],
                          [
                            0.7777777777777778,
                            "#fb9f3a"
                          ],
                          [
                            0.8888888888888888,
                            "#fdca26"
                          ],
                          [
                            1,
                            "#f0f921"
                          ]
                        ],
                        "type": "histogram2d"
                      }
                    ],
                    "histogram2dcontour": [
                      {
                        "colorbar": {
                          "outlinewidth": 0,
                          "ticks": ""
                        },
                        "colorscale": [
                          [
                            0,
                            "#0d0887"
                          ],
                          [
                            0.1111111111111111,
                            "#46039f"
                          ],
                          [
                            0.2222222222222222,
                            "#7201a8"
                          ],
                          [
                            0.3333333333333333,
                            "#9c179e"
                          ],
                          [
                            0.4444444444444444,
                            "#bd3786"
                          ],
                          [
                            0.5555555555555556,
                            "#d8576b"
                          ],
                          [
                            0.6666666666666666,
                            "#ed7953"
                          ],
                          [
                            0.7777777777777778,
                            "#fb9f3a"
                          ],
                          [
                            0.8888888888888888,
                            "#fdca26"
                          ],
                          [
                            1,
                            "#f0f921"
                          ]
                        ],
                        "type": "histogram2dcontour"
                      }
                    ],
                    "mesh3d": [
                      {
                        "colorbar": {
                          "outlinewidth": 0,
                          "ticks": ""
                        },
                        "type": "mesh3d"
                      }
                    ],
                    "parcoords": [
                      {
                        "line": {
                          "colorbar": {
                            "outlinewidth": 0,
                            "ticks": ""
                          }
                        },
                        "type": "parcoords"
                      }
                    ],
                    "pie": [
                      {
                        "automargin": true,
                        "type": "pie"
                      }
                    ],
                    "scatter": [
                      {
                        "fillpattern": {
                          "fillmode": "overlay",
                          "size": 10,
                          "solidity": 0.2
                        },
                        "type": "scatter"
                      }
                    ],
                    "scatter3d": [
                      {
                        "line": {
                          "colorbar": {
                            "outlinewidth": 0,
                            "ticks": ""
                          }
                        },
                        "marker": {
                          "colorbar": {
                            "outlinewidth": 0,
                            "ticks": ""
                          }
                        },
                        "type": "scatter3d"
                      }
                    ],
                    "scattercarpet": [
                      {
                        "marker": {
                          "colorbar": {
                            "outlinewidth": 0,
                            "ticks": ""
                          }
                        },
                        "type": "scattercarpet"
                      }
                    ],
                    "scattergeo": [
                      {
                        "marker": {
                          "colorbar": {
                            "outlinewidth": 0,
                            "ticks": ""
                          }
                        },
                        "type": "scattergeo"
                      }
                    ],
                    "scattergl": [
                      {
                        "marker": {
                          "colorbar": {
                            "outlinewidth": 0,
                            "ticks": ""
                          }
                        },
                        "type": "scattergl"
                      }
                    ],
                    "scattermapbox": [
                      {
                        "marker": {
                          "colorbar": {
                            "outlinewidth": 0,
                            "ticks": ""
                          }
                        },
                        "type": "scattermapbox"
                      }
                    ],
                    "scatterpolar": [
                      {
                        "marker": {
                          "colorbar": {
                            "outlinewidth": 0,
                            "ticks": ""
                          }
                        },
                        "type": "scatterpolar"
                      }
                    ],
                    "scatterpolargl": [
                      {
                        "marker": {
                          "colorbar": {
                            "outlinewidth": 0,
                            "ticks": ""
                          }
                        },
                        "type": "scatterpolargl"
                      }
                    ],
                    "scatterternary": [
                      {
                        "marker": {
                          "colorbar": {
                            "outlinewidth": 0,
                            "ticks": ""
                          }
                        },
                        "type": "scatterternary"
                      }
                    ],
                    "surface": [
                      {
                        "colorbar": {
                          "outlinewidth": 0,
                          "ticks": ""
                        },
                        "colorscale": [
                          [
                            0,
                            "#0d0887"
                          ],
                          [
                            0.1111111111111111,
                            "#46039f"
                          ],
                          [
                            0.2222222222222222,
                            "#7201a8"
                          ],
                          [
                            0.3333333333333333,
                            "#9c179e"
                          ],
                          [
                            0.4444444444444444,
                            "#bd3786"
                          ],
                          [
                            0.5555555555555556,
                            "#d8576b"
                          ],
                          [
                            0.6666666666666666,
                            "#ed7953"
                          ],
                          [
                            0.7777777777777778,
                            "#fb9f3a"
                          ],
                          [
                            0.8888888888888888,
                            "#fdca26"
                          ],
                          [
                            1,
                            "#f0f921"
                          ]
                        ],
                        "type": "surface"
                      }
                    ],
                    "table": [
                      {
                        "cells": {
                          "fill": {
                            "color": "#EBF0F8"
                          },
                          "line": {
                            "color": "white"
                          }
                        },
                        "header": {
                          "fill": {
                            "color": "#C8D4E3"
                          },
                          "line": {
                            "color": "white"
                          }
                        },
                        "type": "table"
                      }
                    ]
                  },
                  "layout": {
                    "annotationdefaults": {
                      "arrowcolor": "#2a3f5f",
                      "arrowhead": 0,
                      "arrowwidth": 1
                    },
                    "autotypenumbers": "strict",
                    "coloraxis": {
                      "colorbar": {
                        "outlinewidth": 0,
                        "ticks": ""
                      }
                    },
                    "colorscale": {
                      "diverging": [
                        [
                          0,
                          "#8e0152"
                        ],
                        [
                          0.1,
                          "#c51b7d"
                        ],
                        [
                          0.2,
                          "#de77ae"
                        ],
                        [
                          0.3,
                          "#f1b6da"
                        ],
                        [
                          0.4,
                          "#fde0ef"
                        ],
                        [
                          0.5,
                          "#f7f7f7"
                        ],
                        [
                          0.6,
                          "#e6f5d0"
                        ],
                        [
                          0.7,
                          "#b8e186"
                        ],
                        [
                          0.8,
                          "#7fbc41"
                        ],
                        [
                          0.9,
                          "#4d9221"
                        ],
                        [
                          1,
                          "#276419"
                        ]
                      ],
                      "sequential": [
                        [
                          0,
                          "#0d0887"
                        ],
                        [
                          0.1111111111111111,
                          "#46039f"
                        ],
                        [
                          0.2222222222222222,
                          "#7201a8"
                        ],
                        [
                          0.3333333333333333,
                          "#9c179e"
                        ],
                        [
                          0.4444444444444444,
                          "#bd3786"
                        ],
                        [
                          0.5555555555555556,
                          "#d8576b"
                        ],
                        [
                          0.6666666666666666,
                          "#ed7953"
                        ],
                        [
                          0.7777777777777778,
                          "#fb9f3a"
                        ],
                        [
                          0.8888888888888888,
                          "#fdca26"
                        ],
                        [
                          1,
                          "#f0f921"
                        ]
                      ],
                      "sequentialminus": [
                        [
                          0,
                          "#0d0887"
                        ],
                        [
                          0.1111111111111111,
                          "#46039f"
                        ],
                        [
                          0.2222222222222222,
                          "#7201a8"
                        ],
                        [
                          0.3333333333333333,
                          "#9c179e"
                        ],
                        [
                          0.4444444444444444,
                          "#bd3786"
                        ],
                        [
                          0.5555555555555556,
                          "#d8576b"
                        ],
                        [
                          0.6666666666666666,
                          "#ed7953"
                        ],
                        [
                          0.7777777777777778,
                          "#fb9f3a"
                        ],
                        [
                          0.8888888888888888,
                          "#fdca26"
                        ],
                        [
                          1,
                          "#f0f921"
                        ]
                      ]
                    },
                    "colorway": [
                      "#636efa",
                      "#EF553B",
                      "#00cc96",
                      "#ab63fa",
                      "#FFA15A",
                      "#19d3f3",
                      "#FF6692",
                      "#B6E880",
                      "#FF97FF",
                      "#FECB52"
                    ],
                    "font": {
                      "color": "#2a3f5f"
                    },
                    "geo": {
                      "bgcolor": "white",
                      "lakecolor": "white",
                      "landcolor": "#E5ECF6",
                      "showlakes": true,
                      "showland": true,
                      "subunitcolor": "white"
                    },
                    "hoverlabel": {
                      "align": "left"
                    },
                    "hovermode": "closest",
                    "mapbox": {
                      "style": "light"
                    },
                    "paper_bgcolor": "white",
                    "plot_bgcolor": "#E5ECF6",
                    "polar": {
                      "angularaxis": {
                        "gridcolor": "white",
                        "linecolor": "white",
                        "ticks": ""
                      },
                      "bgcolor": "#E5ECF6",
                      "radialaxis": {
                        "gridcolor": "white",
                        "linecolor": "white",
                        "ticks": ""
                      }
                    },
                    "scene": {
                      "xaxis": {
                        "backgroundcolor": "#E5ECF6",
                        "gridcolor": "white",
                        "gridwidth": 2,
                        "linecolor": "white",
                        "showbackground": true,
                        "ticks": "",
                        "zerolinecolor": "white"
                      },
                      "yaxis": {
                        "backgroundcolor": "#E5ECF6",
                        "gridcolor": "white",
                        "gridwidth": 2,
                        "linecolor": "white",
                        "showbackground": true,
                        "ticks": "",
                        "zerolinecolor": "white"
                      },
                      "zaxis": {
                        "backgroundcolor": "#E5ECF6",
                        "gridcolor": "white",
                        "gridwidth": 2,
                        "linecolor": "white",
                        "showbackground": true,
                        "ticks": "",
                        "zerolinecolor": "white"
                      }
                    },
                    "shapedefaults": {
                      "line": {
                        "color": "#2a3f5f"
                      }
                    },
                    "ternary": {
                      "aaxis": {
                        "gridcolor": "white",
                        "linecolor": "white",
                        "ticks": ""
                      },
                      "baxis": {
                        "gridcolor": "white",
                        "linecolor": "white",
                        "ticks": ""
                      },
                      "bgcolor": "#E5ECF6",
                      "caxis": {
                        "gridcolor": "white",
                        "linecolor": "white",
                        "ticks": ""
                      }
                    },
                    "title": {
                      "x": 0.05
                    },
                    "xaxis": {
                      "automargin": true,
                      "gridcolor": "white",
                      "linecolor": "white",
                      "ticks": "",
                      "title": {
                        "standoff": 15
                      },
                      "zerolinecolor": "white",
                      "zerolinewidth": 2
                    },
                    "yaxis": {
                      "automargin": true,
                      "gridcolor": "white",
                      "linecolor": "white",
                      "ticks": "",
                      "title": {
                        "standoff": 15
                      },
                      "zerolinecolor": "white",
                      "zerolinewidth": 2
                    }
                  }
                },
                "title": {
                  "text": "Home runs over time"
                },
                "xaxis": {
                  "anchor": "y",
                  "domain": [
                    0,
                    1
                  ],
                  "title": {
                    "text": "yearID"
                  }
                },
                "yaxis": {
                  "anchor": "x",
                  "domain": [
                    0,
                    1
                  ],
                  "title": {
                    "text": "HR"
                  }
                }
              }
            }
          },
          "metadata": {},
          "output_type": "display_data"
        }
      ],
      "source": [
        "#| label: Q3-chart\n",
        "#| code-summary: Team comparison plot\n",
        "#| fig-cap: Team Comparison\n",
        "#| fig-align: center\n",
        "# Comparing Boston and New York\n",
        "px.line(team_df, x='yearID', y='HR', title='Home runs over time', color='teamID')"
      ]
    }
  ],
  "metadata": {
    "kernelspec": {
      "display_name": "Python 3 (ipykernel)",
      "language": "python",
      "name": "python3"
    },
    "language_info": {
      "codemirror_mode": {
        "name": "ipython",
        "version": 3
      },
      "file_extension": ".py",
      "mimetype": "text/x-python",
      "name": "python",
      "nbconvert_exporter": "python",
      "pygments_lexer": "ipython3",
      "version": "3.12.1"
    }
  },
  "nbformat": 4,
  "nbformat_minor": 5
}
